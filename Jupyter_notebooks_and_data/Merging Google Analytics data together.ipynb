{
 "cells": [
  {
   "cell_type": "markdown",
   "metadata": {},
   "source": [
    "# Can I predict how much people will spend online?\n"
   ]
  },
  {
   "cell_type": "code",
   "execution_count": 1,
   "metadata": {},
   "outputs": [
    {
     "name": "stdout",
     "output_type": "stream",
     "text": [
      "(3566, 6)\n"
     ]
    }
   ],
   "source": [
    "import pandas as pd\n",
    "import matplotlib.pyplot as plt\n",
    "import numpy as np\n",
    "\n",
    "df = pd.read_csv('country_city_sessionduration.csv',\n",
    "                skiprows=5,\n",
    "                #skipfooter=1,\n",
    "                engine='python')\n",
    "print(df.shape)\n",
    "#df.head(5)"
   ]
  },
  {
   "cell_type": "code",
   "execution_count": 2,
   "metadata": {
    "scrolled": false
   },
   "outputs": [
    {
     "name": "stdout",
     "output_type": "stream",
     "text": [
      "<class 'str'>\n",
      "<class 'numpy.float64'>\n"
     ]
    }
   ],
   "source": [
    "##Turn prices into numbers not strings\n",
    "print(type(df['Revenue'][0]))\n",
    "df['Revenue'] = df['Revenue'].str.replace(',','')\n",
    "df['Revenue'] = df['Revenue'].str.strip('[\\$,]')\n",
    "\n",
    "df['Revenue'] = pd.to_numeric(df['Revenue'])\n",
    "print(type(df['Revenue'][0]))\n",
    "\n",
    "#display(df.head(5))"
   ]
  },
  {
   "cell_type": "markdown",
   "metadata": {},
   "source": [
    "# Baselines\n"
   ]
  },
  {
   "cell_type": "code",
   "execution_count": 3,
   "metadata": {},
   "outputs": [
    {
     "name": "stdout",
     "output_type": "stream",
     "text": [
      "My average revenue is: $958.38\n"
     ]
    }
   ],
   "source": [
    "### My baselines:\n",
    "avg_rev = df['Revenue'].mean().round(2)\n",
    "print(f'My average revenue is: ${avg_rev}')\n",
    "### I want to predict what factors affect revenue"
   ]
  },
  {
   "cell_type": "markdown",
   "metadata": {},
   "source": [
    "## Dropping non-unique Transaction IDs"
   ]
  },
  {
   "cell_type": "code",
   "execution_count": 4,
   "metadata": {},
   "outputs": [
    {
     "data": {
      "text/plain": [
       "(3566, 6)"
      ]
     },
     "execution_count": 4,
     "metadata": {},
     "output_type": "execute_result"
    }
   ],
   "source": [
    "df.shape"
   ]
  },
  {
   "cell_type": "code",
   "execution_count": 5,
   "metadata": {},
   "outputs": [
    {
     "data": {
      "text/plain": [
       "#9306    11\n",
       "#7878     4\n",
       "#7849     4\n",
       "#8472     4\n",
       "#9648     3\n",
       "Name: Transaction ID, dtype: int64"
      ]
     },
     "execution_count": 5,
     "metadata": {},
     "output_type": "execute_result"
    }
   ],
   "source": [
    "df['Transaction ID'].value_counts().head()\n",
    "### I have some non unique transaction ID's"
   ]
  },
  {
   "cell_type": "code",
   "execution_count": 6,
   "metadata": {},
   "outputs": [
    {
     "data": {
      "text/plain": [
       "(3532, 6)"
      ]
     },
     "execution_count": 6,
     "metadata": {},
     "output_type": "execute_result"
    }
   ],
   "source": [
    "## I think these are some kind of refund/second transaction becuase the revenues are all the same.\n",
    "## Accordingly, I'm dropping all except the \"last\" aka first time it appears.\n",
    "## I'm also doing this so I can merge on unique IDs below.\n",
    "df.drop_duplicates(subset =\"Transaction ID\", keep = 'last', inplace = True)\n",
    "df.shape"
   ]
  },
  {
   "cell_type": "code",
   "execution_count": 7,
   "metadata": {},
   "outputs": [
    {
     "data": {
      "text/plain": [
       "#10253    1\n",
       "#12063    1\n",
       "#11252    1\n",
       "#11869    1\n",
       "#10185    1\n",
       "         ..\n",
       "#10098    1\n",
       "#11174    1\n",
       "#12055    1\n",
       "#9041     1\n",
       "#8619     1\n",
       "Name: Transaction ID, Length: 3532, dtype: int64"
      ]
     },
     "execution_count": 7,
     "metadata": {},
     "output_type": "execute_result"
    }
   ],
   "source": [
    "df['Transaction ID'].value_counts()"
   ]
  },
  {
   "cell_type": "markdown",
   "metadata": {},
   "source": [
    "# Add user type, region, metro"
   ]
  },
  {
   "cell_type": "code",
   "execution_count": 8,
   "metadata": {},
   "outputs": [
    {
     "name": "stdout",
     "output_type": "stream",
     "text": [
      "(3555, 6)\n"
     ]
    }
   ],
   "source": [
    "df2 = pd.read_csv('usertype_region_metro.csv',\n",
    "                skiprows=5,\n",
    "                skipfooter=2,\n",
    "                engine='python')\n",
    "\n",
    "print(df2.shape)\n",
    "#df2"
   ]
  },
  {
   "cell_type": "code",
   "execution_count": 9,
   "metadata": {},
   "outputs": [
    {
     "name": "stdout",
     "output_type": "stream",
     "text": [
      "(3531, 4)\n"
     ]
    }
   ],
   "source": [
    "df2.drop_duplicates(subset =\"Transaction ID\", keep = 'last', inplace = True)\n",
    "df2 = df2.drop(columns=['Date'])\n",
    "df2 = df2.drop(columns=['Revenue'])\n",
    "print(df2.shape)\n",
    "#df2"
   ]
  },
  {
   "cell_type": "code",
   "execution_count": 10,
   "metadata": {},
   "outputs": [
    {
     "data": {
      "text/plain": [
       "#10253    1\n",
       "#12063    1\n",
       "#11252    1\n",
       "#11869    1\n",
       "#10185    1\n",
       "         ..\n",
       "#10098    1\n",
       "#11174    1\n",
       "#12055    1\n",
       "#9041     1\n",
       "#8619     1\n",
       "Name: Transaction ID, Length: 3531, dtype: int64"
      ]
     },
     "execution_count": 10,
     "metadata": {},
     "output_type": "execute_result"
    }
   ],
   "source": [
    "df2['Transaction ID'].value_counts()"
   ]
  },
  {
   "cell_type": "code",
   "execution_count": 11,
   "metadata": {},
   "outputs": [
    {
     "name": "stdout",
     "output_type": "stream",
     "text": [
      "(3532, 9)\n"
     ]
    }
   ],
   "source": [
    "df = df.merge(df2, how='outer', on='Transaction ID', validate='one_to_one')\n",
    "print(df.shape)\n",
    "#df"
   ]
  },
  {
   "cell_type": "markdown",
   "metadata": {},
   "source": [
    "# Add Day of Week, Days to Transaction, Days Since Last Session"
   ]
  },
  {
   "cell_type": "code",
   "execution_count": 12,
   "metadata": {},
   "outputs": [
    {
     "name": "stdout",
     "output_type": "stream",
     "text": [
      "(3560, 6)\n"
     ]
    }
   ],
   "source": [
    "df3 = pd.read_csv('days.csv',\n",
    "                skiprows=5,\n",
    "                skipfooter=2,\n",
    "                engine='python')\n",
    "\n",
    "print(df3.shape)\n",
    "#df3"
   ]
  },
  {
   "cell_type": "code",
   "execution_count": 13,
   "metadata": {},
   "outputs": [
    {
     "name": "stdout",
     "output_type": "stream",
     "text": [
      "(3531, 4)\n",
      "#10253    1\n",
      "#12063    1\n",
      "#11252    1\n",
      "#11869    1\n",
      "#10185    1\n",
      "         ..\n",
      "#10098    1\n",
      "#11174    1\n",
      "#12055    1\n",
      "#9041     1\n",
      "#8619     1\n",
      "Name: Transaction ID, Length: 3531, dtype: int64\n"
     ]
    }
   ],
   "source": [
    "df3.drop_duplicates(subset =\"Transaction ID\", keep = 'last', inplace = True)\n",
    "df3 = df3.drop(columns=['Date'])\n",
    "df3 = df3.drop(columns=['Revenue'])\n",
    "print(df3.shape)\n",
    "print(df3['Transaction ID'].value_counts())\n",
    "#df3"
   ]
  },
  {
   "cell_type": "code",
   "execution_count": 14,
   "metadata": {},
   "outputs": [
    {
     "name": "stdout",
     "output_type": "stream",
     "text": [
      "(3532, 12)\n"
     ]
    }
   ],
   "source": [
    "df = df.merge(df3, how='outer', on='Transaction ID', validate='one_to_one')\n",
    "print(df.shape)\n",
    "#df"
   ]
  },
  {
   "cell_type": "markdown",
   "metadata": {},
   "source": [
    "# Add Device, Number of Sessions, Page Depth\n"
   ]
  },
  {
   "cell_type": "code",
   "execution_count": 15,
   "metadata": {},
   "outputs": [
    {
     "name": "stdout",
     "output_type": "stream",
     "text": [
      "(3565, 6)\n"
     ]
    }
   ],
   "source": [
    "df4 = pd.read_csv('device_sessions_pagedepth.csv',\n",
    "                skiprows=5,\n",
    "                skipfooter=2,\n",
    "                engine='python')\n",
    "\n",
    "print(df4.shape)\n",
    "#df4"
   ]
  },
  {
   "cell_type": "code",
   "execution_count": 16,
   "metadata": {},
   "outputs": [
    {
     "name": "stdout",
     "output_type": "stream",
     "text": [
      "(3531, 4)\n",
      "#10253    1\n",
      "#12063    1\n",
      "#11252    1\n",
      "#11869    1\n",
      "#10185    1\n",
      "         ..\n",
      "#10098    1\n",
      "#11174    1\n",
      "#12055    1\n",
      "#9041     1\n",
      "#8619     1\n",
      "Name: Transaction ID, Length: 3531, dtype: int64\n"
     ]
    }
   ],
   "source": [
    "df4.drop_duplicates(subset =\"Transaction ID\", keep = 'last', inplace = True)\n",
    "df4 = df4.drop(columns=['Date'])\n",
    "df4 = df4.drop(columns=['Revenue'])\n",
    "print(df4.shape)\n",
    "print(df4['Transaction ID'].value_counts())\n",
    "#df4"
   ]
  },
  {
   "cell_type": "code",
   "execution_count": 17,
   "metadata": {},
   "outputs": [
    {
     "name": "stdout",
     "output_type": "stream",
     "text": [
      "(3532, 15)\n"
     ]
    },
    {
     "data": {
      "text/html": [
       "<div>\n",
       "<style scoped>\n",
       "    .dataframe tbody tr th:only-of-type {\n",
       "        vertical-align: middle;\n",
       "    }\n",
       "\n",
       "    .dataframe tbody tr th {\n",
       "        vertical-align: top;\n",
       "    }\n",
       "\n",
       "    .dataframe thead th {\n",
       "        text-align: right;\n",
       "    }\n",
       "</style>\n",
       "<table border=\"1\" class=\"dataframe\">\n",
       "  <thead>\n",
       "    <tr style=\"text-align: right;\">\n",
       "      <th></th>\n",
       "      <th>Transaction ID</th>\n",
       "      <th>Date</th>\n",
       "      <th>Country</th>\n",
       "      <th>City</th>\n",
       "      <th>Session Duration</th>\n",
       "      <th>Revenue</th>\n",
       "      <th>User Type</th>\n",
       "      <th>Region</th>\n",
       "      <th>Metro</th>\n",
       "      <th>Day of Week</th>\n",
       "      <th>Days to Transaction</th>\n",
       "      <th>Days Since Last Session</th>\n",
       "      <th>Device Category</th>\n",
       "      <th>Count of Sessions</th>\n",
       "      <th>Page Depth</th>\n",
       "    </tr>\n",
       "  </thead>\n",
       "  <tbody>\n",
       "    <tr>\n",
       "      <th>0</th>\n",
       "      <td>#12144</td>\n",
       "      <td>20200301</td>\n",
       "      <td>United States</td>\n",
       "      <td>Waterville Valley</td>\n",
       "      <td>593 seconds</td>\n",
       "      <td>982.86</td>\n",
       "      <td>New Visitor</td>\n",
       "      <td>New Hampshire</td>\n",
       "      <td>Burlington VT-Plattsburgh NY</td>\n",
       "      <td>0.0</td>\n",
       "      <td>0.0</td>\n",
       "      <td>0.0</td>\n",
       "      <td>desktop</td>\n",
       "      <td>1.0</td>\n",
       "      <td>15.0</td>\n",
       "    </tr>\n",
       "    <tr>\n",
       "      <th>1</th>\n",
       "      <td>#12145</td>\n",
       "      <td>20200301</td>\n",
       "      <td>United States</td>\n",
       "      <td>Dallas</td>\n",
       "      <td>336 seconds</td>\n",
       "      <td>2671.15</td>\n",
       "      <td>Returning Visitor</td>\n",
       "      <td>Texas</td>\n",
       "      <td>Dallas-Ft. Worth TX</td>\n",
       "      <td>0.0</td>\n",
       "      <td>0.0</td>\n",
       "      <td>0.0</td>\n",
       "      <td>tablet</td>\n",
       "      <td>4.0</td>\n",
       "      <td>8.0</td>\n",
       "    </tr>\n",
       "    <tr>\n",
       "      <th>2</th>\n",
       "      <td>#12146</td>\n",
       "      <td>20200301</td>\n",
       "      <td>United States</td>\n",
       "      <td>Seattle</td>\n",
       "      <td>267 seconds</td>\n",
       "      <td>990.82</td>\n",
       "      <td>New Visitor</td>\n",
       "      <td>Washington</td>\n",
       "      <td>Seattle-Tacoma WA</td>\n",
       "      <td>0.0</td>\n",
       "      <td>0.0</td>\n",
       "      <td>0.0</td>\n",
       "      <td>mobile</td>\n",
       "      <td>1.0</td>\n",
       "      <td>8.0</td>\n",
       "    </tr>\n",
       "    <tr>\n",
       "      <th>3</th>\n",
       "      <td>#12147</td>\n",
       "      <td>20200301</td>\n",
       "      <td>United States</td>\n",
       "      <td>Orlando</td>\n",
       "      <td>0 seconds</td>\n",
       "      <td>123.01</td>\n",
       "      <td>Returning Visitor</td>\n",
       "      <td>Florida</td>\n",
       "      <td>Orlando-Daytona Beach-Melbourne FL</td>\n",
       "      <td>0.0</td>\n",
       "      <td>0.0</td>\n",
       "      <td>0.0</td>\n",
       "      <td>mobile</td>\n",
       "      <td>3.0</td>\n",
       "      <td>1.0</td>\n",
       "    </tr>\n",
       "    <tr>\n",
       "      <th>4</th>\n",
       "      <td>#12148</td>\n",
       "      <td>20200301</td>\n",
       "      <td>United States</td>\n",
       "      <td>Champaign</td>\n",
       "      <td>1359 seconds</td>\n",
       "      <td>105.10</td>\n",
       "      <td>Returning Visitor</td>\n",
       "      <td>Illinois</td>\n",
       "      <td>Champaign &amp; Springfield-Decatur IL</td>\n",
       "      <td>0.0</td>\n",
       "      <td>0.0</td>\n",
       "      <td>0.0</td>\n",
       "      <td>desktop</td>\n",
       "      <td>3.0</td>\n",
       "      <td>16.0</td>\n",
       "    </tr>\n",
       "    <tr>\n",
       "      <th>...</th>\n",
       "      <td>...</td>\n",
       "      <td>...</td>\n",
       "      <td>...</td>\n",
       "      <td>...</td>\n",
       "      <td>...</td>\n",
       "      <td>...</td>\n",
       "      <td>...</td>\n",
       "      <td>...</td>\n",
       "      <td>...</td>\n",
       "      <td>...</td>\n",
       "      <td>...</td>\n",
       "      <td>...</td>\n",
       "      <td>...</td>\n",
       "      <td>...</td>\n",
       "      <td>...</td>\n",
       "    </tr>\n",
       "    <tr>\n",
       "      <th>3527</th>\n",
       "      <td>#7851</td>\n",
       "      <td>20180105</td>\n",
       "      <td>United Kingdom</td>\n",
       "      <td>London</td>\n",
       "      <td>589 seconds</td>\n",
       "      <td>296.35</td>\n",
       "      <td>New Visitor</td>\n",
       "      <td>England</td>\n",
       "      <td>London</td>\n",
       "      <td>5.0</td>\n",
       "      <td>0.0</td>\n",
       "      <td>0.0</td>\n",
       "      <td>desktop</td>\n",
       "      <td>1.0</td>\n",
       "      <td>11.0</td>\n",
       "    </tr>\n",
       "    <tr>\n",
       "      <th>3528</th>\n",
       "      <td>#7852</td>\n",
       "      <td>20180105</td>\n",
       "      <td>United States</td>\n",
       "      <td>Madison</td>\n",
       "      <td>402 seconds</td>\n",
       "      <td>80.11</td>\n",
       "      <td>New Visitor</td>\n",
       "      <td>Wisconsin</td>\n",
       "      <td>Madison WI</td>\n",
       "      <td>5.0</td>\n",
       "      <td>0.0</td>\n",
       "      <td>0.0</td>\n",
       "      <td>desktop</td>\n",
       "      <td>1.0</td>\n",
       "      <td>20.0</td>\n",
       "    </tr>\n",
       "    <tr>\n",
       "      <th>3529</th>\n",
       "      <td>#7848</td>\n",
       "      <td>20180103</td>\n",
       "      <td>United States</td>\n",
       "      <td>Manteno</td>\n",
       "      <td>104 seconds</td>\n",
       "      <td>2653.14</td>\n",
       "      <td>Returning Visitor</td>\n",
       "      <td>Illinois</td>\n",
       "      <td>Chicago IL</td>\n",
       "      <td>3.0</td>\n",
       "      <td>0.0</td>\n",
       "      <td>0.0</td>\n",
       "      <td>desktop</td>\n",
       "      <td>7.0</td>\n",
       "      <td>5.0</td>\n",
       "    </tr>\n",
       "    <tr>\n",
       "      <th>3530</th>\n",
       "      <td>#7849</td>\n",
       "      <td>20180103</td>\n",
       "      <td>United States</td>\n",
       "      <td>Willow Grove</td>\n",
       "      <td>1205 seconds</td>\n",
       "      <td>119.54</td>\n",
       "      <td>Returning Visitor</td>\n",
       "      <td>Pennsylvania</td>\n",
       "      <td>Philadelphia PA</td>\n",
       "      <td>4.0</td>\n",
       "      <td>6.0</td>\n",
       "      <td>0.0</td>\n",
       "      <td>desktop</td>\n",
       "      <td>6.0</td>\n",
       "      <td>1.0</td>\n",
       "    </tr>\n",
       "    <tr>\n",
       "      <th>3531</th>\n",
       "      <td>#7850</td>\n",
       "      <td>20180103</td>\n",
       "      <td>United States</td>\n",
       "      <td>San Francisco</td>\n",
       "      <td>151 seconds</td>\n",
       "      <td>1595.25</td>\n",
       "      <td>NaN</td>\n",
       "      <td>NaN</td>\n",
       "      <td>NaN</td>\n",
       "      <td>NaN</td>\n",
       "      <td>NaN</td>\n",
       "      <td>NaN</td>\n",
       "      <td>NaN</td>\n",
       "      <td>NaN</td>\n",
       "      <td>NaN</td>\n",
       "    </tr>\n",
       "  </tbody>\n",
       "</table>\n",
       "<p>3532 rows × 15 columns</p>\n",
       "</div>"
      ],
      "text/plain": [
       "     Transaction ID      Date         Country               City  \\\n",
       "0            #12144  20200301   United States  Waterville Valley   \n",
       "1            #12145  20200301   United States             Dallas   \n",
       "2            #12146  20200301   United States            Seattle   \n",
       "3            #12147  20200301   United States            Orlando   \n",
       "4            #12148  20200301   United States          Champaign   \n",
       "...             ...       ...             ...                ...   \n",
       "3527          #7851  20180105  United Kingdom             London   \n",
       "3528          #7852  20180105   United States            Madison   \n",
       "3529          #7848  20180103   United States            Manteno   \n",
       "3530          #7849  20180103   United States       Willow Grove   \n",
       "3531          #7850  20180103   United States      San Francisco   \n",
       "\n",
       "     Session Duration  Revenue          User Type         Region  \\\n",
       "0         593 seconds   982.86        New Visitor  New Hampshire   \n",
       "1         336 seconds  2671.15  Returning Visitor          Texas   \n",
       "2         267 seconds   990.82        New Visitor     Washington   \n",
       "3           0 seconds   123.01  Returning Visitor        Florida   \n",
       "4        1359 seconds   105.10  Returning Visitor       Illinois   \n",
       "...               ...      ...                ...            ...   \n",
       "3527      589 seconds   296.35        New Visitor        England   \n",
       "3528      402 seconds    80.11        New Visitor      Wisconsin   \n",
       "3529      104 seconds  2653.14  Returning Visitor       Illinois   \n",
       "3530     1205 seconds   119.54  Returning Visitor   Pennsylvania   \n",
       "3531      151 seconds  1595.25                NaN            NaN   \n",
       "\n",
       "                                   Metro  Day of Week  Days to Transaction  \\\n",
       "0           Burlington VT-Plattsburgh NY          0.0                  0.0   \n",
       "1                    Dallas-Ft. Worth TX          0.0                  0.0   \n",
       "2                      Seattle-Tacoma WA          0.0                  0.0   \n",
       "3     Orlando-Daytona Beach-Melbourne FL          0.0                  0.0   \n",
       "4     Champaign & Springfield-Decatur IL          0.0                  0.0   \n",
       "...                                  ...          ...                  ...   \n",
       "3527                              London          5.0                  0.0   \n",
       "3528                          Madison WI          5.0                  0.0   \n",
       "3529                          Chicago IL          3.0                  0.0   \n",
       "3530                     Philadelphia PA          4.0                  6.0   \n",
       "3531                                 NaN          NaN                  NaN   \n",
       "\n",
       "      Days Since Last Session Device Category  Count of Sessions  Page Depth  \n",
       "0                         0.0         desktop                1.0        15.0  \n",
       "1                         0.0          tablet                4.0         8.0  \n",
       "2                         0.0          mobile                1.0         8.0  \n",
       "3                         0.0          mobile                3.0         1.0  \n",
       "4                         0.0         desktop                3.0        16.0  \n",
       "...                       ...             ...                ...         ...  \n",
       "3527                      0.0         desktop                1.0        11.0  \n",
       "3528                      0.0         desktop                1.0        20.0  \n",
       "3529                      0.0         desktop                7.0         5.0  \n",
       "3530                      0.0         desktop                6.0         1.0  \n",
       "3531                      NaN             NaN                NaN         NaN  \n",
       "\n",
       "[3532 rows x 15 columns]"
      ]
     },
     "execution_count": 17,
     "metadata": {},
     "output_type": "execute_result"
    }
   ],
   "source": [
    "df = df.merge(df4, how='outer', on='Transaction ID', validate='one_to_one')\n",
    "print(df.shape)\n",
    "df"
   ]
  },
  {
   "cell_type": "code",
   "execution_count": 18,
   "metadata": {},
   "outputs": [],
   "source": [
    "###Output to csv\n",
    "df.to_csv('mergedGAdata.csv')"
   ]
  }
 ],
 "metadata": {
  "kernelspec": {
   "display_name": "Python 3",
   "language": "python",
   "name": "python3"
  },
  "language_info": {
   "codemirror_mode": {
    "name": "ipython",
    "version": 3
   },
   "file_extension": ".py",
   "mimetype": "text/x-python",
   "name": "python",
   "nbconvert_exporter": "python",
   "pygments_lexer": "ipython3",
   "version": "3.7.6"
  }
 },
 "nbformat": 4,
 "nbformat_minor": 4
}
